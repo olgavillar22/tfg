{
 "cells": [
  {
   "cell_type": "code",
   "execution_count": 21,
   "metadata": {},
   "outputs": [],
   "source": [
    "import pandas as pd\n",
    "import numpy as np"
   ]
  },
  {
   "cell_type": "code",
   "execution_count": 22,
   "metadata": {},
   "outputs": [],
   "source": [
    "dades = pd.read_excel(\"HUMIDITY_01-01-2023_31-12-2023.xls\",skiprows=[0,1,2,3,4,5,6,7,8,9,10,11])"
   ]
  },
  {
   "cell_type": "code",
   "execution_count": 23,
   "metadata": {},
   "outputs": [
    {
     "data": {
      "text/plain": [
       "<bound method NDFrame.head of                     Date                Time  Qaire DSA A-11[DS A]-Humitat[%]  \\\n",
       "0    2023-01-01 00:00:00 2023-01-01 00:00:00                             55.0   \n",
       "1    2023-01-01 01:00:00 2023-01-01 01:00:00                             55.0   \n",
       "2    2023-01-01 02:00:00 2023-01-01 02:00:00                             55.0   \n",
       "3    2023-01-01 03:00:00 2023-01-01 03:00:00                             54.5   \n",
       "4    2023-01-01 04:00:00 2023-01-01 04:00:00                             54.0   \n",
       "...                  ...                 ...                              ...   \n",
       "8755 2023-12-31 19:00:00 2023-12-31 19:00:00                             49.0   \n",
       "8756 2023-12-31 20:00:00 2023-12-31 20:00:00                             49.0   \n",
       "8757 2023-12-31 21:00:00 2023-12-31 21:00:00                             49.0   \n",
       "8758 2023-12-31 22:00:00 2023-12-31 22:00:00                             49.0   \n",
       "8759 2023-12-31 23:00:00 2023-12-31 23:00:00                             49.0   \n",
       "\n",
       "      Qaire DSA A-12[DS A]-Humitat[%]  Qaire DSA A-13[DS A]-Humitat[%]  \\\n",
       "0                                55.0                             53.0   \n",
       "1                                55.0                             53.5   \n",
       "2                                55.0                             53.5   \n",
       "3                                54.0                             53.0   \n",
       "4                                54.0                             53.0   \n",
       "...                               ...                              ...   \n",
       "8755                             50.0                             48.0   \n",
       "8756                             50.0                             49.0   \n",
       "8757                             50.0                             48.5   \n",
       "8758                             50.0                             48.0   \n",
       "8759                             50.0                             48.0   \n",
       "\n",
       "      Qaire DSA A-14[DS A]-Humitat[%]  Qaire DSA A-21[DS A]-Humitat[%]  \\\n",
       "0                                53.0                             53.0   \n",
       "1                                53.0                             53.0   \n",
       "2                                53.0                             53.0   \n",
       "3                                53.0                             53.0   \n",
       "4                                53.0                             53.0   \n",
       "...                               ...                              ...   \n",
       "8755                             50.0                             48.0   \n",
       "8756                             50.0                             48.0   \n",
       "8757                             50.0                             48.0   \n",
       "8758                             50.0                             48.0   \n",
       "8759                             51.0                             48.0   \n",
       "\n",
       "      Qaire DSA A-22[DS A]-Humitat[%]  Qaire DSA A-23[DS A]-Humitat[%]  \\\n",
       "0                                53.0                             53.0   \n",
       "1                                54.0                             53.0   \n",
       "2                                54.0                             53.0   \n",
       "3                                54.0                             53.0   \n",
       "4                                53.5                             53.0   \n",
       "...                               ...                              ...   \n",
       "8755                             47.0                             48.0   \n",
       "8756                             47.0                             48.0   \n",
       "8757                             47.0                             48.0   \n",
       "8758                             47.0                             48.0   \n",
       "8759                             47.0                             48.0   \n",
       "\n",
       "      Qaire DSA A-24[DS A]-Humitat[%]  ...  Qaire DSA GA-117[DS A]-Humitat[%]  \\\n",
       "0                                53.0  ...                               52.0   \n",
       "1                                53.0  ...                               52.0   \n",
       "2                                53.0  ...                               52.0   \n",
       "3                                53.0  ...                               53.0   \n",
       "4                                53.0  ...                               53.0   \n",
       "...                               ...  ...                                ...   \n",
       "8755                             47.0  ...                               50.0   \n",
       "8756                             48.0  ...                               50.0   \n",
       "8757                             48.0  ...                               50.0   \n",
       "8758                             48.0  ...                               50.0   \n",
       "8759                             49.0  ...                               50.0   \n",
       "\n",
       "      Qaire DSA GA-BCsg[DS A]-Humitat[%]  \\\n",
       "0                                   50.5   \n",
       "1                                   51.0   \n",
       "2                                   51.0   \n",
       "3                                   51.5   \n",
       "4                                   52.0   \n",
       "...                                  ...   \n",
       "8755                                53.0   \n",
       "8756                                53.0   \n",
       "8757                                52.0   \n",
       "8758                                52.0   \n",
       "8759                                52.0   \n",
       "\n",
       "      Qaire DSA Lab. Impressió[DS A]-Humitat[%]  \\\n",
       "0                                          53.0   \n",
       "1                                          53.0   \n",
       "2                                          54.0   \n",
       "3                                          54.0   \n",
       "4                                          53.0   \n",
       "...                                         ...   \n",
       "8755                                       43.0   \n",
       "8756                                       43.0   \n",
       "8757                                       43.0   \n",
       "8758                                       43.0   \n",
       "8759                                       43.0   \n",
       "\n",
       "      Qaire DSA LA-SMOD[DS A]-Humitat[%]  \\\n",
       "0                                   58.5   \n",
       "1                                   58.0   \n",
       "2                                   58.5   \n",
       "3                                   59.0   \n",
       "4                                   58.0   \n",
       "...                                  ...   \n",
       "8755                                44.0   \n",
       "8756                                44.0   \n",
       "8757                                44.0   \n",
       "8758                                44.0   \n",
       "8759                                44.0   \n",
       "\n",
       "      Qaire DSA Manteniment 01[DS A]-Humitat[%]  \\\n",
       "0                                          51.0   \n",
       "1                                          51.0   \n",
       "2                                          51.0   \n",
       "3                                          51.0   \n",
       "4                                          51.0   \n",
       "...                                         ...   \n",
       "8755                                       47.0   \n",
       "8756                                       47.0   \n",
       "8757                                       47.0   \n",
       "8758                                       47.0   \n",
       "8759                                       47.0   \n",
       "\n",
       "      Qaire DSA Sala d'estudi[DS A]-Humitat[%]  \\\n",
       "0                                         57.0   \n",
       "1                                         57.0   \n",
       "2                                         56.5   \n",
       "3                                         56.0   \n",
       "4                                         55.5   \n",
       "...                                        ...   \n",
       "8755                                      44.0   \n",
       "8756                                      44.0   \n",
       "8757                                      44.0   \n",
       "8758                                      44.0   \n",
       "8759                                      44.0   \n",
       "\n",
       "      Qaire DSB Bib. P00[DS B]-Humitat[%]  \\\n",
       "0                                    49.0   \n",
       "1                                    49.0   \n",
       "2                                    49.0   \n",
       "3                                    49.0   \n",
       "4                                    49.0   \n",
       "...                                   ...   \n",
       "8755                                 41.0   \n",
       "8756                                 41.0   \n",
       "8757                                 41.0   \n",
       "8758                                 41.0   \n",
       "8759                                 41.0   \n",
       "\n",
       "      Qaire DSB Bib. PS1[DS B]-Humitat[%]  Qaire DSC EC-MAQ[DS C]-Humitat[%]  \\\n",
       "0                                     NaN                               53.0   \n",
       "1                                     NaN                               52.0   \n",
       "2                                     NaN                               52.0   \n",
       "3                                     NaN                               52.0   \n",
       "4                                     NaN                               51.0   \n",
       "...                                   ...                                ...   \n",
       "8755                                  NaN                               42.0   \n",
       "8756                                  NaN                               42.0   \n",
       "8757                                  NaN                               42.0   \n",
       "8758                                  NaN                                NaN   \n",
       "8759                                  NaN                                NaN   \n",
       "\n",
       "      Qaire DSC EC-SZ[DS C]-Humitat[%]  \n",
       "0                                 54.0  \n",
       "1                                 54.0  \n",
       "2                                 54.0  \n",
       "3                                 54.0  \n",
       "4                                 53.0  \n",
       "...                                ...  \n",
       "8755                              42.0  \n",
       "8756                              42.0  \n",
       "8757                              42.0  \n",
       "8758                              42.0  \n",
       "8759                              42.0  \n",
       "\n",
       "[8760 rows x 58 columns]>"
      ]
     },
     "execution_count": 23,
     "metadata": {},
     "output_type": "execute_result"
    }
   ],
   "source": [
    "dades.head"
   ]
  },
  {
   "cell_type": "code",
   "execution_count": 24,
   "metadata": {},
   "outputs": [
    {
     "data": {
      "text/plain": [
       "Index(['Date', 'Time', 'Qaire DSA A-11[DS A]-Humitat[%]',\n",
       "       'Qaire DSA A-12[DS A]-Humitat[%]', 'Qaire DSA A-13[DS A]-Humitat[%]',\n",
       "       'Qaire DSA A-14[DS A]-Humitat[%]', 'Qaire DSA A-21[DS A]-Humitat[%]',\n",
       "       'Qaire DSA A-22[DS A]-Humitat[%]', 'Qaire DSA A-23[DS A]-Humitat[%]',\n",
       "       'Qaire DSA A-24[DS A]-Humitat[%]', 'Qaire DSA A-31[DS A]-Humitat[%]',\n",
       "       'Qaire DSA A-32[DS A]-Humitat[%]', 'Qaire DSA A-33[DS A]-Humitat[%]',\n",
       "       'Qaire DSA A-33 (antic)[DS A]-Humitat[%]',\n",
       "       'Qaire DSA A-34[DS A]-Humitat[%]', 'Qaire DSA A-35[DS A]-Humitat[%]',\n",
       "       'Qaire DSA A-36[DS A]-Humitat[%]', 'Qaire DSA A-41[DS A]-Humitat[%]',\n",
       "       'Qaire DSA A-42[DS A]-Humitat[%]', 'Qaire DSA A-43[DS A]-Humitat[%]',\n",
       "       'Qaire DSA A-44[DS A]-Humitat[%]', 'Qaire DSA A-51[DS A]-Humitat[%]',\n",
       "       'Qaire DSA A-52[DS A]-Humitat[%]', 'Qaire DSA A-53[DS A]-Humitat[%]',\n",
       "       'Qaire DSA A-54[DS A]-Humitat[%]', 'Qaire DSA A-55[DS A]-Humitat[%]',\n",
       "       'Qaire DSA A-56[DS A]-Humitat[%]', 'Qaire DSA A-61[DS A]-Humitat[%]',\n",
       "       'Qaire DSA A-62[DS A]-Humitat[%]',\n",
       "       'Qaire DSA A-BGraus[DS A]-Humitat[%]',\n",
       "       'Qaire DSA A-BPFC1[DS A]-Humitat[%]',\n",
       "       'Qaire DSA A-BPFC2[DS A]-Humitat[%]', 'Qaire DSA A-CI[DS A]-Humitat[%]',\n",
       "       'Qaire DSA A-S.1[DS A]-Humitat[%]', 'Qaire DSA A-S.2[DS A]-Humitat[%]',\n",
       "       'Qaire DSA A-S.3[DS A]-Humitat[%]', 'Qaire DSA DA-230[DS A]-Humitat[%]',\n",
       "       'Qaire DSA DA-233[DS A]-Humitat[%]',\n",
       "       'Qaire DSA DA-321[DS A]-Humitat[%]',\n",
       "       'Qaire DSA DA-420[DS A]-Humitat[%]',\n",
       "       'Qaire DSA DA-521[DS A]-Humitat[%]',\n",
       "       'Qaire DSA DA-614[DS A]-Humitat[%]',\n",
       "       'Qaire DSA DA-754[DS A]-Humitat[%]',\n",
       "       'Qaire DSA DA-761[DS A]-Humitat[%]',\n",
       "       'Qaire DSA DA-770[DS A]-Humitat[%]',\n",
       "       'Qaire DSA DA-770 (antic)[DS A]-Humitat[%]',\n",
       "       'Qaire DSA Espai Beta[DS A]-Humitat[%]',\n",
       "       'Qaire DSA GA-104[DS A]-Humitat[%]',\n",
       "       'Qaire DSA GA-117[DS A]-Humitat[%]',\n",
       "       'Qaire DSA GA-BCsg[DS A]-Humitat[%]',\n",
       "       'Qaire DSA Lab. Impressió[DS A]-Humitat[%]',\n",
       "       'Qaire DSA LA-SMOD[DS A]-Humitat[%]',\n",
       "       'Qaire DSA Manteniment 01[DS A]-Humitat[%]',\n",
       "       'Qaire DSA Sala d'estudi[DS A]-Humitat[%]',\n",
       "       'Qaire DSB Bib. P00[DS B]-Humitat[%]',\n",
       "       'Qaire DSB Bib. PS1[DS B]-Humitat[%]',\n",
       "       'Qaire DSC EC-MAQ[DS C]-Humitat[%]',\n",
       "       'Qaire DSC EC-SZ[DS C]-Humitat[%]'],\n",
       "      dtype='object')"
      ]
     },
     "execution_count": 24,
     "metadata": {},
     "output_type": "execute_result"
    }
   ],
   "source": [
    "dades.columns"
   ]
  },
  {
   "cell_type": "code",
   "execution_count": 25,
   "metadata": {},
   "outputs": [],
   "source": [
    "date_col = dades['Date']\n",
    "time_col = dades['Time']"
   ]
  },
  {
   "cell_type": "code",
   "execution_count": 26,
   "metadata": {},
   "outputs": [],
   "source": [
    "def get_date(x):\n",
    "    x = str(x)\n",
    "    return x.split(' ')[0]\n",
    "\n",
    "def get_time(x):\n",
    "    x = str(x)\n",
    "    return x.split(' ')[1]"
   ]
  },
  {
   "cell_type": "code",
   "execution_count": 27,
   "metadata": {},
   "outputs": [],
   "source": [
    "dades['Date'] = date_col.apply(get_date)\n",
    "dades['Time'] = time_col.apply(get_time)"
   ]
  },
  {
   "cell_type": "code",
   "execution_count": 28,
   "metadata": {},
   "outputs": [
    {
     "data": {
      "text/plain": [
       "Date                                            0\n",
       "Time                                            0\n",
       "Qaire DSA A-11[DS A]-Humitat[%]                 0\n",
       "Qaire DSA A-12[DS A]-Humitat[%]                 1\n",
       "Qaire DSA A-13[DS A]-Humitat[%]                 0\n",
       "Qaire DSA A-14[DS A]-Humitat[%]                 0\n",
       "Qaire DSA A-21[DS A]-Humitat[%]                 0\n",
       "Qaire DSA A-22[DS A]-Humitat[%]                 1\n",
       "Qaire DSA A-23[DS A]-Humitat[%]                 1\n",
       "Qaire DSA A-24[DS A]-Humitat[%]                 0\n",
       "Qaire DSA A-31[DS A]-Humitat[%]                 1\n",
       "Qaire DSA A-32[DS A]-Humitat[%]                 6\n",
       "Qaire DSA A-33[DS A]-Humitat[%]                 9\n",
       "Qaire DSA A-33 (antic)[DS A]-Humitat[%]      8760\n",
       "Qaire DSA A-34[DS A]-Humitat[%]                 1\n",
       "Qaire DSA A-35[DS A]-Humitat[%]                 1\n",
       "Qaire DSA A-36[DS A]-Humitat[%]                 1\n",
       "Qaire DSA A-41[DS A]-Humitat[%]                 0\n",
       "Qaire DSA A-42[DS A]-Humitat[%]                 1\n",
       "Qaire DSA A-43[DS A]-Humitat[%]                 2\n",
       "Qaire DSA A-44[DS A]-Humitat[%]                 1\n",
       "Qaire DSA A-51[DS A]-Humitat[%]                 1\n",
       "Qaire DSA A-52[DS A]-Humitat[%]                 1\n",
       "Qaire DSA A-53[DS A]-Humitat[%]                 3\n",
       "Qaire DSA A-54[DS A]-Humitat[%]                 2\n",
       "Qaire DSA A-55[DS A]-Humitat[%]                 3\n",
       "Qaire DSA A-56[DS A]-Humitat[%]                 1\n",
       "Qaire DSA A-61[DS A]-Humitat[%]                 2\n",
       "Qaire DSA A-62[DS A]-Humitat[%]                 0\n",
       "Qaire DSA A-BGraus[DS A]-Humitat[%]             1\n",
       "Qaire DSA A-BPFC1[DS A]-Humitat[%]              1\n",
       "Qaire DSA A-BPFC2[DS A]-Humitat[%]              1\n",
       "Qaire DSA A-CI[DS A]-Humitat[%]                 1\n",
       "Qaire DSA A-S.1[DS A]-Humitat[%]              474\n",
       "Qaire DSA A-S.2[DS A]-Humitat[%]                0\n",
       "Qaire DSA A-S.3[DS A]-Humitat[%]                1\n",
       "Qaire DSA DA-230[DS A]-Humitat[%]               2\n",
       "Qaire DSA DA-233[DS A]-Humitat[%]               2\n",
       "Qaire DSA DA-321[DS A]-Humitat[%]              21\n",
       "Qaire DSA DA-420[DS A]-Humitat[%]               0\n",
       "Qaire DSA DA-521[DS A]-Humitat[%]               1\n",
       "Qaire DSA DA-614[DS A]-Humitat[%]               1\n",
       "Qaire DSA DA-754[DS A]-Humitat[%]               1\n",
       "Qaire DSA DA-761[DS A]-Humitat[%]               0\n",
       "Qaire DSA DA-770[DS A]-Humitat[%]               3\n",
       "Qaire DSA DA-770 (antic)[DS A]-Humitat[%]       1\n",
       "Qaire DSA Espai Beta[DS A]-Humitat[%]           2\n",
       "Qaire DSA GA-104[DS A]-Humitat[%]               1\n",
       "Qaire DSA GA-117[DS A]-Humitat[%]               2\n",
       "Qaire DSA GA-BCsg[DS A]-Humitat[%]              1\n",
       "Qaire DSA Lab. Impressió[DS A]-Humitat[%]      40\n",
       "Qaire DSA LA-SMOD[DS A]-Humitat[%]            330\n",
       "Qaire DSA Manteniment 01[DS A]-Humitat[%]     137\n",
       "Qaire DSA Sala d'estudi[DS A]-Humitat[%]        5\n",
       "Qaire DSB Bib. P00[DS B]-Humitat[%]             1\n",
       "Qaire DSB Bib. PS1[DS B]-Humitat[%]          7177\n",
       "Qaire DSC EC-MAQ[DS C]-Humitat[%]            2849\n",
       "Qaire DSC EC-SZ[DS C]-Humitat[%]             2803\n",
       "dtype: int64"
      ]
     },
     "execution_count": 28,
     "metadata": {},
     "output_type": "execute_result"
    }
   ],
   "source": [
    "dades.isnull().sum(0)\n",
    "# Alarming nans: col A-33(antic)!,\n",
    "#col A-S.1[DS A], col LA-SMOD, col bib.PS1!, \n",
    "#col DSC EC-MAQ, col DSC EC-SZ"
   ]
  },
  {
   "cell_type": "code",
   "execution_count": 29,
   "metadata": {},
   "outputs": [],
   "source": [
    "#dadesco2 = dadesco2.fillna('-')\n",
    "#dadesco2.head()"
   ]
  },
  {
   "cell_type": "code",
   "execution_count": 30,
   "metadata": {},
   "outputs": [],
   "source": [
    "dades = dades.drop(columns = ['Qaire DSA A-33 (antic)[DS A]-Humitat[%]','Qaire DSB Bib. PS1[DS B]-Humitat[%]'])"
   ]
  },
  {
   "cell_type": "code",
   "execution_count": 31,
   "metadata": {},
   "outputs": [],
   "source": [
    "dades_ffill = dades.fillna(method = 'ffill')"
   ]
  },
  {
   "cell_type": "code",
   "execution_count": 32,
   "metadata": {},
   "outputs": [
    {
     "data": {
      "text/plain": [
       "False"
      ]
     },
     "execution_count": 32,
     "metadata": {},
     "output_type": "execute_result"
    }
   ],
   "source": [
    "dades_ffill.isnull().values.any()"
   ]
  },
  {
   "cell_type": "code",
   "execution_count": 33,
   "metadata": {},
   "outputs": [],
   "source": [
    "def new_col_names(names):\n",
    "    new_names = {'Date':'Date','Time':'Time'}\n",
    "    names = names[2:]\n",
    "    for name in names:\n",
    "        new_names[name] = name[10:len(name)-11]\n",
    "    return new_names"
   ]
  },
  {
   "cell_type": "code",
   "execution_count": 34,
   "metadata": {},
   "outputs": [
    {
     "data": {
      "text/plain": [
       "{'Date': 'Date',\n",
       " 'Time': 'Time',\n",
       " 'Qaire DSA A-11[DS A]-Humitat[%]': 'A-11[DS A]',\n",
       " 'Qaire DSA A-12[DS A]-Humitat[%]': 'A-12[DS A]',\n",
       " 'Qaire DSA A-13[DS A]-Humitat[%]': 'A-13[DS A]',\n",
       " 'Qaire DSA A-14[DS A]-Humitat[%]': 'A-14[DS A]',\n",
       " 'Qaire DSA A-21[DS A]-Humitat[%]': 'A-21[DS A]',\n",
       " 'Qaire DSA A-22[DS A]-Humitat[%]': 'A-22[DS A]',\n",
       " 'Qaire DSA A-23[DS A]-Humitat[%]': 'A-23[DS A]',\n",
       " 'Qaire DSA A-24[DS A]-Humitat[%]': 'A-24[DS A]',\n",
       " 'Qaire DSA A-31[DS A]-Humitat[%]': 'A-31[DS A]',\n",
       " 'Qaire DSA A-32[DS A]-Humitat[%]': 'A-32[DS A]',\n",
       " 'Qaire DSA A-33[DS A]-Humitat[%]': 'A-33[DS A]',\n",
       " 'Qaire DSA A-34[DS A]-Humitat[%]': 'A-34[DS A]',\n",
       " 'Qaire DSA A-35[DS A]-Humitat[%]': 'A-35[DS A]',\n",
       " 'Qaire DSA A-36[DS A]-Humitat[%]': 'A-36[DS A]',\n",
       " 'Qaire DSA A-41[DS A]-Humitat[%]': 'A-41[DS A]',\n",
       " 'Qaire DSA A-42[DS A]-Humitat[%]': 'A-42[DS A]',\n",
       " 'Qaire DSA A-43[DS A]-Humitat[%]': 'A-43[DS A]',\n",
       " 'Qaire DSA A-44[DS A]-Humitat[%]': 'A-44[DS A]',\n",
       " 'Qaire DSA A-51[DS A]-Humitat[%]': 'A-51[DS A]',\n",
       " 'Qaire DSA A-52[DS A]-Humitat[%]': 'A-52[DS A]',\n",
       " 'Qaire DSA A-53[DS A]-Humitat[%]': 'A-53[DS A]',\n",
       " 'Qaire DSA A-54[DS A]-Humitat[%]': 'A-54[DS A]',\n",
       " 'Qaire DSA A-55[DS A]-Humitat[%]': 'A-55[DS A]',\n",
       " 'Qaire DSA A-56[DS A]-Humitat[%]': 'A-56[DS A]',\n",
       " 'Qaire DSA A-61[DS A]-Humitat[%]': 'A-61[DS A]',\n",
       " 'Qaire DSA A-62[DS A]-Humitat[%]': 'A-62[DS A]',\n",
       " 'Qaire DSA A-BGraus[DS A]-Humitat[%]': 'A-BGraus[DS A]',\n",
       " 'Qaire DSA A-BPFC1[DS A]-Humitat[%]': 'A-BPFC1[DS A]',\n",
       " 'Qaire DSA A-BPFC2[DS A]-Humitat[%]': 'A-BPFC2[DS A]',\n",
       " 'Qaire DSA A-CI[DS A]-Humitat[%]': 'A-CI[DS A]',\n",
       " 'Qaire DSA A-S.1[DS A]-Humitat[%]': 'A-S.1[DS A]',\n",
       " 'Qaire DSA A-S.2[DS A]-Humitat[%]': 'A-S.2[DS A]',\n",
       " 'Qaire DSA A-S.3[DS A]-Humitat[%]': 'A-S.3[DS A]',\n",
       " 'Qaire DSA DA-230[DS A]-Humitat[%]': 'DA-230[DS A]',\n",
       " 'Qaire DSA DA-233[DS A]-Humitat[%]': 'DA-233[DS A]',\n",
       " 'Qaire DSA DA-321[DS A]-Humitat[%]': 'DA-321[DS A]',\n",
       " 'Qaire DSA DA-420[DS A]-Humitat[%]': 'DA-420[DS A]',\n",
       " 'Qaire DSA DA-521[DS A]-Humitat[%]': 'DA-521[DS A]',\n",
       " 'Qaire DSA DA-614[DS A]-Humitat[%]': 'DA-614[DS A]',\n",
       " 'Qaire DSA DA-754[DS A]-Humitat[%]': 'DA-754[DS A]',\n",
       " 'Qaire DSA DA-761[DS A]-Humitat[%]': 'DA-761[DS A]',\n",
       " 'Qaire DSA DA-770[DS A]-Humitat[%]': 'DA-770[DS A]',\n",
       " 'Qaire DSA DA-770 (antic)[DS A]-Humitat[%]': 'DA-770 (antic)[DS A]',\n",
       " 'Qaire DSA Espai Beta[DS A]-Humitat[%]': 'Espai Beta[DS A]',\n",
       " 'Qaire DSA GA-104[DS A]-Humitat[%]': 'GA-104[DS A]',\n",
       " 'Qaire DSA GA-117[DS A]-Humitat[%]': 'GA-117[DS A]',\n",
       " 'Qaire DSA GA-BCsg[DS A]-Humitat[%]': 'GA-BCsg[DS A]',\n",
       " 'Qaire DSA Lab. Impressió[DS A]-Humitat[%]': 'Lab. Impressió[DS A]',\n",
       " 'Qaire DSA LA-SMOD[DS A]-Humitat[%]': 'LA-SMOD[DS A]',\n",
       " 'Qaire DSA Manteniment 01[DS A]-Humitat[%]': 'Manteniment 01[DS A]',\n",
       " \"Qaire DSA Sala d'estudi[DS A]-Humitat[%]\": \"Sala d'estudi[DS A]\",\n",
       " 'Qaire DSB Bib. P00[DS B]-Humitat[%]': 'Bib. P00[DS B]',\n",
       " 'Qaire DSC EC-MAQ[DS C]-Humitat[%]': 'EC-MAQ[DS C]',\n",
       " 'Qaire DSC EC-SZ[DS C]-Humitat[%]': 'EC-SZ[DS C]'}"
      ]
     },
     "execution_count": 34,
     "metadata": {},
     "output_type": "execute_result"
    }
   ],
   "source": [
    "new_names = new_col_names(dades_ffill.columns.array)\n",
    "new_names"
   ]
  },
  {
   "cell_type": "code",
   "execution_count": 35,
   "metadata": {},
   "outputs": [],
   "source": [
    "dades_ffill = dades_ffill.rename(columns = new_names)"
   ]
  },
  {
   "cell_type": "code",
   "execution_count": 37,
   "metadata": {},
   "outputs": [],
   "source": [
    "dades_ffill.to_csv('humidityETSAB2023_clean.csv', index = False)"
   ]
  },
  {
   "cell_type": "code",
   "execution_count": null,
   "metadata": {},
   "outputs": [],
   "source": []
  }
 ],
 "metadata": {
  "kernelspec": {
   "display_name": "Python 3",
   "language": "python",
   "name": "python3"
  },
  "language_info": {
   "codemirror_mode": {
    "name": "ipython",
    "version": 3
   },
   "file_extension": ".py",
   "mimetype": "text/x-python",
   "name": "python",
   "nbconvert_exporter": "python",
   "pygments_lexer": "ipython3",
   "version": "3.8.8"
  }
 },
 "nbformat": 4,
 "nbformat_minor": 4
}
