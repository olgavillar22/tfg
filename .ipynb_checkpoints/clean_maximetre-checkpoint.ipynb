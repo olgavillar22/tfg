{
 "cells": [
  {
   "cell_type": "code",
   "execution_count": 2,
   "metadata": {},
   "outputs": [],
   "source": [
    "import pandas as pd"
   ]
  },
  {
   "cell_type": "code",
   "execution_count": 3,
   "metadata": {},
   "outputs": [],
   "source": [
    "dades = pd.read_excel('Maxímetro_01-01-2023_31-12-2023.xls',skiprows=[0,1,2,3,4,5,6,7,8,9,10,11,12,13])"
   ]
  },
  {
   "cell_type": "code",
   "execution_count": 4,
   "metadata": {},
   "outputs": [
    {
     "data": {
      "text/html": [
       "<div>\n",
       "<style scoped>\n",
       "    .dataframe tbody tr th:only-of-type {\n",
       "        vertical-align: middle;\n",
       "    }\n",
       "\n",
       "    .dataframe tbody tr th {\n",
       "        vertical-align: top;\n",
       "    }\n",
       "\n",
       "    .dataframe thead th {\n",
       "        text-align: right;\n",
       "    }\n",
       "</style>\n",
       "<table border=\"1\" class=\"dataframe\">\n",
       "  <thead>\n",
       "    <tr style=\"text-align: right;\">\n",
       "      <th></th>\n",
       "      <th>Date</th>\n",
       "      <th>Hour</th>\n",
       "      <th>CS A elec [kW] [ETSAB]</th>\n",
       "      <th>CS B elec [kW] [ETSAB]</th>\n",
       "      <th>CS C elec [kW] [ETSAB]</th>\n",
       "      <th>Electricitat Total [kW] [ETSAB]</th>\n",
       "    </tr>\n",
       "  </thead>\n",
       "  <tbody>\n",
       "    <tr>\n",
       "      <th>0</th>\n",
       "      <td>2023-01-01 00:00:00</td>\n",
       "      <td>2023-01-01 00:00:00</td>\n",
       "      <td>19.996</td>\n",
       "      <td>0.0</td>\n",
       "      <td>3.336</td>\n",
       "      <td>23.332</td>\n",
       "    </tr>\n",
       "    <tr>\n",
       "      <th>1</th>\n",
       "      <td>2023-01-01 00:15:00</td>\n",
       "      <td>2023-01-01 00:15:00</td>\n",
       "      <td>19.448</td>\n",
       "      <td>0.0</td>\n",
       "      <td>3.308</td>\n",
       "      <td>22.756</td>\n",
       "    </tr>\n",
       "    <tr>\n",
       "      <th>2</th>\n",
       "      <td>2023-01-01 00:30:00</td>\n",
       "      <td>2023-01-01 00:30:00</td>\n",
       "      <td>20.772</td>\n",
       "      <td>0.0</td>\n",
       "      <td>3.320</td>\n",
       "      <td>24.092</td>\n",
       "    </tr>\n",
       "    <tr>\n",
       "      <th>3</th>\n",
       "      <td>2023-01-01 00:45:00</td>\n",
       "      <td>2023-01-01 00:45:00</td>\n",
       "      <td>20.236</td>\n",
       "      <td>0.0</td>\n",
       "      <td>3.328</td>\n",
       "      <td>23.564</td>\n",
       "    </tr>\n",
       "    <tr>\n",
       "      <th>4</th>\n",
       "      <td>2023-01-01 01:00:00</td>\n",
       "      <td>2023-01-01 01:00:00</td>\n",
       "      <td>20.948</td>\n",
       "      <td>0.0</td>\n",
       "      <td>3.316</td>\n",
       "      <td>24.264</td>\n",
       "    </tr>\n",
       "  </tbody>\n",
       "</table>\n",
       "</div>"
      ],
      "text/plain": [
       "                 Date                Hour  CS A elec [kW] [ETSAB]  \\\n",
       "0 2023-01-01 00:00:00 2023-01-01 00:00:00                  19.996   \n",
       "1 2023-01-01 00:15:00 2023-01-01 00:15:00                  19.448   \n",
       "2 2023-01-01 00:30:00 2023-01-01 00:30:00                  20.772   \n",
       "3 2023-01-01 00:45:00 2023-01-01 00:45:00                  20.236   \n",
       "4 2023-01-01 01:00:00 2023-01-01 01:00:00                  20.948   \n",
       "\n",
       "   CS B elec [kW] [ETSAB]  CS C elec [kW] [ETSAB]  \\\n",
       "0                     0.0                   3.336   \n",
       "1                     0.0                   3.308   \n",
       "2                     0.0                   3.320   \n",
       "3                     0.0                   3.328   \n",
       "4                     0.0                   3.316   \n",
       "\n",
       "   Electricitat Total [kW] [ETSAB]  \n",
       "0                           23.332  \n",
       "1                           22.756  \n",
       "2                           24.092  \n",
       "3                           23.564  \n",
       "4                           24.264  "
      ]
     },
     "execution_count": 4,
     "metadata": {},
     "output_type": "execute_result"
    }
   ],
   "source": [
    "dades.head()"
   ]
  },
  {
   "cell_type": "code",
   "execution_count": 5,
   "metadata": {},
   "outputs": [],
   "source": [
    "date_col = dades['Date']\n",
    "time_col = dades['Hour']\n",
    "dades = dades.drop(columns=['Hour'])"
   ]
  },
  {
   "cell_type": "code",
   "execution_count": 6,
   "metadata": {},
   "outputs": [],
   "source": [
    "def get_date(x):\n",
    "    x = str(x)\n",
    "    return x.split(' ')[0]\n",
    "\n",
    "def get_time(x):\n",
    "    x = str(x)\n",
    "    return x.split(' ')[1]"
   ]
  },
  {
   "cell_type": "code",
   "execution_count": 7,
   "metadata": {},
   "outputs": [],
   "source": [
    "dades['Date'] = date_col.apply(get_date)\n",
    "dades['Time'] = time_col.apply(get_time)"
   ]
  },
  {
   "cell_type": "code",
   "execution_count": 8,
   "metadata": {},
   "outputs": [
    {
     "data": {
      "text/html": [
       "<div>\n",
       "<style scoped>\n",
       "    .dataframe tbody tr th:only-of-type {\n",
       "        vertical-align: middle;\n",
       "    }\n",
       "\n",
       "    .dataframe tbody tr th {\n",
       "        vertical-align: top;\n",
       "    }\n",
       "\n",
       "    .dataframe thead th {\n",
       "        text-align: right;\n",
       "    }\n",
       "</style>\n",
       "<table border=\"1\" class=\"dataframe\">\n",
       "  <thead>\n",
       "    <tr style=\"text-align: right;\">\n",
       "      <th></th>\n",
       "      <th>Date</th>\n",
       "      <th>CS A elec [kW] [ETSAB]</th>\n",
       "      <th>CS B elec [kW] [ETSAB]</th>\n",
       "      <th>CS C elec [kW] [ETSAB]</th>\n",
       "      <th>Electricitat Total [kW] [ETSAB]</th>\n",
       "      <th>Time</th>\n",
       "    </tr>\n",
       "  </thead>\n",
       "  <tbody>\n",
       "    <tr>\n",
       "      <th>0</th>\n",
       "      <td>2023-01-01</td>\n",
       "      <td>19.996</td>\n",
       "      <td>0.0</td>\n",
       "      <td>3.336</td>\n",
       "      <td>23.332</td>\n",
       "      <td>00:00:00</td>\n",
       "    </tr>\n",
       "    <tr>\n",
       "      <th>1</th>\n",
       "      <td>2023-01-01</td>\n",
       "      <td>19.448</td>\n",
       "      <td>0.0</td>\n",
       "      <td>3.308</td>\n",
       "      <td>22.756</td>\n",
       "      <td>00:15:00</td>\n",
       "    </tr>\n",
       "    <tr>\n",
       "      <th>2</th>\n",
       "      <td>2023-01-01</td>\n",
       "      <td>20.772</td>\n",
       "      <td>0.0</td>\n",
       "      <td>3.320</td>\n",
       "      <td>24.092</td>\n",
       "      <td>00:30:00</td>\n",
       "    </tr>\n",
       "    <tr>\n",
       "      <th>3</th>\n",
       "      <td>2023-01-01</td>\n",
       "      <td>20.236</td>\n",
       "      <td>0.0</td>\n",
       "      <td>3.328</td>\n",
       "      <td>23.564</td>\n",
       "      <td>00:45:00</td>\n",
       "    </tr>\n",
       "    <tr>\n",
       "      <th>4</th>\n",
       "      <td>2023-01-01</td>\n",
       "      <td>20.948</td>\n",
       "      <td>0.0</td>\n",
       "      <td>3.316</td>\n",
       "      <td>24.264</td>\n",
       "      <td>01:00:00</td>\n",
       "    </tr>\n",
       "  </tbody>\n",
       "</table>\n",
       "</div>"
      ],
      "text/plain": [
       "         Date  CS A elec [kW] [ETSAB]  CS B elec [kW] [ETSAB]  \\\n",
       "0  2023-01-01                  19.996                     0.0   \n",
       "1  2023-01-01                  19.448                     0.0   \n",
       "2  2023-01-01                  20.772                     0.0   \n",
       "3  2023-01-01                  20.236                     0.0   \n",
       "4  2023-01-01                  20.948                     0.0   \n",
       "\n",
       "   CS C elec [kW] [ETSAB]  Electricitat Total [kW] [ETSAB]      Time  \n",
       "0                   3.336                           23.332  00:00:00  \n",
       "1                   3.308                           22.756  00:15:00  \n",
       "2                   3.320                           24.092  00:30:00  \n",
       "3                   3.328                           23.564  00:45:00  \n",
       "4                   3.316                           24.264  01:00:00  "
      ]
     },
     "execution_count": 8,
     "metadata": {},
     "output_type": "execute_result"
    }
   ],
   "source": [
    "dades.head()"
   ]
  },
  {
   "cell_type": "code",
   "execution_count": 9,
   "metadata": {},
   "outputs": [
    {
     "data": {
      "text/plain": [
       "Date                                0\n",
       "CS A elec [kW] [ETSAB]             15\n",
       "CS B elec [kW] [ETSAB]             25\n",
       "CS C elec [kW] [ETSAB]             19\n",
       "Electricitat Total [kW] [ETSAB]     0\n",
       "Time                                0\n",
       "dtype: int64"
      ]
     },
     "execution_count": 9,
     "metadata": {},
     "output_type": "execute_result"
    }
   ],
   "source": [
    "dades.isnull().sum(0)"
   ]
  },
  {
   "cell_type": "code",
   "execution_count": 10,
   "metadata": {},
   "outputs": [
    {
     "data": {
      "text/plain": [
       "(34794, 6)"
      ]
     },
     "execution_count": 10,
     "metadata": {},
     "output_type": "execute_result"
    }
   ],
   "source": [
    "dades.shape"
   ]
  },
  {
   "cell_type": "markdown",
   "metadata": {},
   "source": [
    "Veiem que hi ha pocs missing values en comparació amb la mida del dataset."
   ]
  },
  {
   "cell_type": "code",
   "execution_count": 11,
   "metadata": {},
   "outputs": [],
   "source": [
    "dades_ffill = dades.fillna(method = 'ffill')"
   ]
  },
  {
   "cell_type": "code",
   "execution_count": 12,
   "metadata": {},
   "outputs": [],
   "source": [
    "dades.to_csv('maximetreETSAB2023_clean.csv', index = False)"
   ]
  },
  {
   "cell_type": "code",
   "execution_count": null,
   "metadata": {},
   "outputs": [],
   "source": []
  }
 ],
 "metadata": {
  "kernelspec": {
   "display_name": "Python 3",
   "language": "python",
   "name": "python3"
  },
  "language_info": {
   "codemirror_mode": {
    "name": "ipython",
    "version": 3
   },
   "file_extension": ".py",
   "mimetype": "text/x-python",
   "name": "python",
   "nbconvert_exporter": "python",
   "pygments_lexer": "ipython3",
   "version": "3.8.8"
  }
 },
 "nbformat": 4,
 "nbformat_minor": 4
}
