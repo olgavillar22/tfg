{
 "cells": [
  {
   "cell_type": "code",
   "execution_count": 42,
   "metadata": {},
   "outputs": [],
   "source": [
    "import pandas as pd\n",
    "import numpy as np"
   ]
  },
  {
   "cell_type": "code",
   "execution_count": 43,
   "metadata": {},
   "outputs": [],
   "source": [
    "dades = pd.read_excel(\"HUMIDITY_01-01-2023_31-12-2023.xls\",skiprows=[0,1,2,3,4,5,6,7,8,9,10,11])"
   ]
  },
  {
   "cell_type": "code",
   "execution_count": 44,
   "metadata": {},
   "outputs": [
    {
     "data": {
      "text/plain": [
       "Index(['Date', 'Time', 'Qaire DSA A-11[DS A]-Humitat[%]',\n",
       "       'Qaire DSA A-12[DS A]-Humitat[%]', 'Qaire DSA A-13[DS A]-Humitat[%]',\n",
       "       'Qaire DSA A-14[DS A]-Humitat[%]', 'Qaire DSA A-21[DS A]-Humitat[%]',\n",
       "       'Qaire DSA A-22[DS A]-Humitat[%]', 'Qaire DSA A-23[DS A]-Humitat[%]',\n",
       "       'Qaire DSA A-24[DS A]-Humitat[%]', 'Qaire DSA A-31[DS A]-Humitat[%]',\n",
       "       'Qaire DSA A-32[DS A]-Humitat[%]', 'Qaire DSA A-33[DS A]-Humitat[%]',\n",
       "       'Qaire DSA A-33 (antic)[DS A]-Humitat[%]',\n",
       "       'Qaire DSA A-34[DS A]-Humitat[%]', 'Qaire DSA A-35[DS A]-Humitat[%]',\n",
       "       'Qaire DSA A-36[DS A]-Humitat[%]', 'Qaire DSA A-41[DS A]-Humitat[%]',\n",
       "       'Qaire DSA A-42[DS A]-Humitat[%]', 'Qaire DSA A-43[DS A]-Humitat[%]',\n",
       "       'Qaire DSA A-44[DS A]-Humitat[%]', 'Qaire DSA A-51[DS A]-Humitat[%]',\n",
       "       'Qaire DSA A-52[DS A]-Humitat[%]', 'Qaire DSA A-53[DS A]-Humitat[%]',\n",
       "       'Qaire DSA A-54[DS A]-Humitat[%]', 'Qaire DSA A-55[DS A]-Humitat[%]',\n",
       "       'Qaire DSA A-56[DS A]-Humitat[%]', 'Qaire DSA A-61[DS A]-Humitat[%]',\n",
       "       'Qaire DSA A-62[DS A]-Humitat[%]',\n",
       "       'Qaire DSA A-BGraus[DS A]-Humitat[%]',\n",
       "       'Qaire DSA A-BPFC1[DS A]-Humitat[%]',\n",
       "       'Qaire DSA A-BPFC2[DS A]-Humitat[%]', 'Qaire DSA A-CI[DS A]-Humitat[%]',\n",
       "       'Qaire DSA A-S.1[DS A]-Humitat[%]', 'Qaire DSA A-S.2[DS A]-Humitat[%]',\n",
       "       'Qaire DSA A-S.3[DS A]-Humitat[%]', 'Qaire DSA DA-230[DS A]-Humitat[%]',\n",
       "       'Qaire DSA DA-233[DS A]-Humitat[%]',\n",
       "       'Qaire DSA DA-321[DS A]-Humitat[%]',\n",
       "       'Qaire DSA DA-420[DS A]-Humitat[%]',\n",
       "       'Qaire DSA DA-521[DS A]-Humitat[%]',\n",
       "       'Qaire DSA DA-614[DS A]-Humitat[%]',\n",
       "       'Qaire DSA DA-754[DS A]-Humitat[%]',\n",
       "       'Qaire DSA DA-761[DS A]-Humitat[%]',\n",
       "       'Qaire DSA DA-770[DS A]-Humitat[%]',\n",
       "       'Qaire DSA DA-770 (antic)[DS A]-Humitat[%]',\n",
       "       'Qaire DSA Espai Beta[DS A]-Humitat[%]',\n",
       "       'Qaire DSA GA-104[DS A]-Humitat[%]',\n",
       "       'Qaire DSA GA-117[DS A]-Humitat[%]',\n",
       "       'Qaire DSA GA-BCsg[DS A]-Humitat[%]',\n",
       "       'Qaire DSA Lab. Impressió[DS A]-Humitat[%]',\n",
       "       'Qaire DSA LA-SMOD[DS A]-Humitat[%]',\n",
       "       'Qaire DSA Manteniment 01[DS A]-Humitat[%]',\n",
       "       'Qaire DSA Sala d'estudi[DS A]-Humitat[%]',\n",
       "       'Qaire DSB Bib. P00[DS B]-Humitat[%]',\n",
       "       'Qaire DSB Bib. PS1[DS B]-Humitat[%]',\n",
       "       'Qaire DSC EC-MAQ[DS C]-Humitat[%]',\n",
       "       'Qaire DSC EC-SZ[DS C]-Humitat[%]'],\n",
       "      dtype='object')"
      ]
     },
     "execution_count": 44,
     "metadata": {},
     "output_type": "execute_result"
    }
   ],
   "source": [
    "dades.columns"
   ]
  },
  {
   "cell_type": "code",
   "execution_count": 45,
   "metadata": {},
   "outputs": [
    {
     "data": {
      "text/plain": [
       "(8760, 58)"
      ]
     },
     "execution_count": 45,
     "metadata": {},
     "output_type": "execute_result"
    }
   ],
   "source": [
    "dades.shape"
   ]
  },
  {
   "cell_type": "code",
   "execution_count": 46,
   "metadata": {},
   "outputs": [],
   "source": [
    "dades = dades.drop(['Time'], axis = 1)"
   ]
  },
  {
   "cell_type": "code",
   "execution_count": 47,
   "metadata": {},
   "outputs": [
    {
     "data": {
      "text/plain": [
       "Date                                            0\n",
       "Qaire DSA A-11[DS A]-Humitat[%]                 0\n",
       "Qaire DSA A-12[DS A]-Humitat[%]                 1\n",
       "Qaire DSA A-13[DS A]-Humitat[%]                 0\n",
       "Qaire DSA A-14[DS A]-Humitat[%]                 0\n",
       "Qaire DSA A-21[DS A]-Humitat[%]                 0\n",
       "Qaire DSA A-22[DS A]-Humitat[%]                 1\n",
       "Qaire DSA A-23[DS A]-Humitat[%]                 1\n",
       "Qaire DSA A-24[DS A]-Humitat[%]                 0\n",
       "Qaire DSA A-31[DS A]-Humitat[%]                 1\n",
       "Qaire DSA A-32[DS A]-Humitat[%]                 6\n",
       "Qaire DSA A-33[DS A]-Humitat[%]                 9\n",
       "Qaire DSA A-33 (antic)[DS A]-Humitat[%]      8760\n",
       "Qaire DSA A-34[DS A]-Humitat[%]                 1\n",
       "Qaire DSA A-35[DS A]-Humitat[%]                 1\n",
       "Qaire DSA A-36[DS A]-Humitat[%]                 1\n",
       "Qaire DSA A-41[DS A]-Humitat[%]                 0\n",
       "Qaire DSA A-42[DS A]-Humitat[%]                 1\n",
       "Qaire DSA A-43[DS A]-Humitat[%]                 2\n",
       "Qaire DSA A-44[DS A]-Humitat[%]                 1\n",
       "Qaire DSA A-51[DS A]-Humitat[%]                 1\n",
       "Qaire DSA A-52[DS A]-Humitat[%]                 1\n",
       "Qaire DSA A-53[DS A]-Humitat[%]                 3\n",
       "Qaire DSA A-54[DS A]-Humitat[%]                 2\n",
       "Qaire DSA A-55[DS A]-Humitat[%]                 3\n",
       "Qaire DSA A-56[DS A]-Humitat[%]                 1\n",
       "Qaire DSA A-61[DS A]-Humitat[%]                 2\n",
       "Qaire DSA A-62[DS A]-Humitat[%]                 0\n",
       "Qaire DSA A-BGraus[DS A]-Humitat[%]             1\n",
       "Qaire DSA A-BPFC1[DS A]-Humitat[%]              1\n",
       "Qaire DSA A-BPFC2[DS A]-Humitat[%]              1\n",
       "Qaire DSA A-CI[DS A]-Humitat[%]                 1\n",
       "Qaire DSA A-S.1[DS A]-Humitat[%]              474\n",
       "Qaire DSA A-S.2[DS A]-Humitat[%]                0\n",
       "Qaire DSA A-S.3[DS A]-Humitat[%]                1\n",
       "Qaire DSA DA-230[DS A]-Humitat[%]               2\n",
       "Qaire DSA DA-233[DS A]-Humitat[%]               2\n",
       "Qaire DSA DA-321[DS A]-Humitat[%]              21\n",
       "Qaire DSA DA-420[DS A]-Humitat[%]               0\n",
       "Qaire DSA DA-521[DS A]-Humitat[%]               1\n",
       "Qaire DSA DA-614[DS A]-Humitat[%]               1\n",
       "Qaire DSA DA-754[DS A]-Humitat[%]               1\n",
       "Qaire DSA DA-761[DS A]-Humitat[%]               0\n",
       "Qaire DSA DA-770[DS A]-Humitat[%]               3\n",
       "Qaire DSA DA-770 (antic)[DS A]-Humitat[%]       1\n",
       "Qaire DSA Espai Beta[DS A]-Humitat[%]           2\n",
       "Qaire DSA GA-104[DS A]-Humitat[%]               1\n",
       "Qaire DSA GA-117[DS A]-Humitat[%]               2\n",
       "Qaire DSA GA-BCsg[DS A]-Humitat[%]              1\n",
       "Qaire DSA Lab. Impressió[DS A]-Humitat[%]      40\n",
       "Qaire DSA LA-SMOD[DS A]-Humitat[%]            330\n",
       "Qaire DSA Manteniment 01[DS A]-Humitat[%]     137\n",
       "Qaire DSA Sala d'estudi[DS A]-Humitat[%]        5\n",
       "Qaire DSB Bib. P00[DS B]-Humitat[%]             1\n",
       "Qaire DSB Bib. PS1[DS B]-Humitat[%]          7177\n",
       "Qaire DSC EC-MAQ[DS C]-Humitat[%]            2849\n",
       "Qaire DSC EC-SZ[DS C]-Humitat[%]             2803\n",
       "dtype: int64"
      ]
     },
     "execution_count": 47,
     "metadata": {},
     "output_type": "execute_result"
    }
   ],
   "source": [
    "dades.isnull().sum(0)\n",
    "# Alarming nans: col A-33(antic)!,\n",
    "#col A-S.1[DS A], col LA-SMOD, col bib.PS1!, \n",
    "#col DSC EC-MAQ, col DSC EC-SZ"
   ]
  },
  {
   "cell_type": "code",
   "execution_count": 48,
   "metadata": {},
   "outputs": [],
   "source": [
    "#dadesco2 = dadesco2.fillna('-')\n",
    "#dadesco2.head()"
   ]
  },
  {
   "cell_type": "code",
   "execution_count": 49,
   "metadata": {},
   "outputs": [],
   "source": [
    "dades = dades.drop(columns = ['Qaire DSA A-33 (antic)[DS A]-Humitat[%]','Qaire DSB Bib. PS1[DS B]-Humitat[%]'])"
   ]
  },
  {
   "cell_type": "code",
   "execution_count": 50,
   "metadata": {},
   "outputs": [],
   "source": [
    "dades_ffill = dades.fillna(method = 'ffill')"
   ]
  },
  {
   "cell_type": "code",
   "execution_count": 51,
   "metadata": {},
   "outputs": [
    {
     "data": {
      "text/plain": [
       "False"
      ]
     },
     "execution_count": 51,
     "metadata": {},
     "output_type": "execute_result"
    }
   ],
   "source": [
    "dades_ffill.isnull().values.any()"
   ]
  },
  {
   "cell_type": "code",
   "execution_count": 52,
   "metadata": {},
   "outputs": [],
   "source": [
    "def new_col_names(names):\n",
    "    new_names = {'Date':'Date'}\n",
    "    names = names[1:]\n",
    "    for name in names:\n",
    "        new_names[name] = name[10:len(name)-17]\n",
    "    return new_names"
   ]
  },
  {
   "cell_type": "code",
   "execution_count": 53,
   "metadata": {},
   "outputs": [
    {
     "data": {
      "text/plain": [
       "{'Date': 'Date',\n",
       " 'Qaire DSA A-11[DS A]-Humitat[%]': 'A-11',\n",
       " 'Qaire DSA A-12[DS A]-Humitat[%]': 'A-12',\n",
       " 'Qaire DSA A-13[DS A]-Humitat[%]': 'A-13',\n",
       " 'Qaire DSA A-14[DS A]-Humitat[%]': 'A-14',\n",
       " 'Qaire DSA A-21[DS A]-Humitat[%]': 'A-21',\n",
       " 'Qaire DSA A-22[DS A]-Humitat[%]': 'A-22',\n",
       " 'Qaire DSA A-23[DS A]-Humitat[%]': 'A-23',\n",
       " 'Qaire DSA A-24[DS A]-Humitat[%]': 'A-24',\n",
       " 'Qaire DSA A-31[DS A]-Humitat[%]': 'A-31',\n",
       " 'Qaire DSA A-32[DS A]-Humitat[%]': 'A-32',\n",
       " 'Qaire DSA A-33[DS A]-Humitat[%]': 'A-33',\n",
       " 'Qaire DSA A-34[DS A]-Humitat[%]': 'A-34',\n",
       " 'Qaire DSA A-35[DS A]-Humitat[%]': 'A-35',\n",
       " 'Qaire DSA A-36[DS A]-Humitat[%]': 'A-36',\n",
       " 'Qaire DSA A-41[DS A]-Humitat[%]': 'A-41',\n",
       " 'Qaire DSA A-42[DS A]-Humitat[%]': 'A-42',\n",
       " 'Qaire DSA A-43[DS A]-Humitat[%]': 'A-43',\n",
       " 'Qaire DSA A-44[DS A]-Humitat[%]': 'A-44',\n",
       " 'Qaire DSA A-51[DS A]-Humitat[%]': 'A-51',\n",
       " 'Qaire DSA A-52[DS A]-Humitat[%]': 'A-52',\n",
       " 'Qaire DSA A-53[DS A]-Humitat[%]': 'A-53',\n",
       " 'Qaire DSA A-54[DS A]-Humitat[%]': 'A-54',\n",
       " 'Qaire DSA A-55[DS A]-Humitat[%]': 'A-55',\n",
       " 'Qaire DSA A-56[DS A]-Humitat[%]': 'A-56',\n",
       " 'Qaire DSA A-61[DS A]-Humitat[%]': 'A-61',\n",
       " 'Qaire DSA A-62[DS A]-Humitat[%]': 'A-62',\n",
       " 'Qaire DSA A-BGraus[DS A]-Humitat[%]': 'A-BGraus',\n",
       " 'Qaire DSA A-BPFC1[DS A]-Humitat[%]': 'A-BPFC1',\n",
       " 'Qaire DSA A-BPFC2[DS A]-Humitat[%]': 'A-BPFC2',\n",
       " 'Qaire DSA A-CI[DS A]-Humitat[%]': 'A-CI',\n",
       " 'Qaire DSA A-S.1[DS A]-Humitat[%]': 'A-S.1',\n",
       " 'Qaire DSA A-S.2[DS A]-Humitat[%]': 'A-S.2',\n",
       " 'Qaire DSA A-S.3[DS A]-Humitat[%]': 'A-S.3',\n",
       " 'Qaire DSA DA-230[DS A]-Humitat[%]': 'DA-230',\n",
       " 'Qaire DSA DA-233[DS A]-Humitat[%]': 'DA-233',\n",
       " 'Qaire DSA DA-321[DS A]-Humitat[%]': 'DA-321',\n",
       " 'Qaire DSA DA-420[DS A]-Humitat[%]': 'DA-420',\n",
       " 'Qaire DSA DA-521[DS A]-Humitat[%]': 'DA-521',\n",
       " 'Qaire DSA DA-614[DS A]-Humitat[%]': 'DA-614',\n",
       " 'Qaire DSA DA-754[DS A]-Humitat[%]': 'DA-754',\n",
       " 'Qaire DSA DA-761[DS A]-Humitat[%]': 'DA-761',\n",
       " 'Qaire DSA DA-770[DS A]-Humitat[%]': 'DA-770',\n",
       " 'Qaire DSA DA-770 (antic)[DS A]-Humitat[%]': 'DA-770 (antic)',\n",
       " 'Qaire DSA Espai Beta[DS A]-Humitat[%]': 'Espai Beta',\n",
       " 'Qaire DSA GA-104[DS A]-Humitat[%]': 'GA-104',\n",
       " 'Qaire DSA GA-117[DS A]-Humitat[%]': 'GA-117',\n",
       " 'Qaire DSA GA-BCsg[DS A]-Humitat[%]': 'GA-BCsg',\n",
       " 'Qaire DSA Lab. Impressió[DS A]-Humitat[%]': 'Lab. Impressió',\n",
       " 'Qaire DSA LA-SMOD[DS A]-Humitat[%]': 'LA-SMOD',\n",
       " 'Qaire DSA Manteniment 01[DS A]-Humitat[%]': 'Manteniment 01',\n",
       " \"Qaire DSA Sala d'estudi[DS A]-Humitat[%]\": \"Sala d'estudi\",\n",
       " 'Qaire DSB Bib. P00[DS B]-Humitat[%]': 'Bib. P00',\n",
       " 'Qaire DSC EC-MAQ[DS C]-Humitat[%]': 'EC-MAQ',\n",
       " 'Qaire DSC EC-SZ[DS C]-Humitat[%]': 'EC-SZ'}"
      ]
     },
     "execution_count": 53,
     "metadata": {},
     "output_type": "execute_result"
    }
   ],
   "source": [
    "new_names = new_col_names(dades_ffill.columns.array)\n",
    "new_names"
   ]
  },
  {
   "cell_type": "code",
   "execution_count": 54,
   "metadata": {},
   "outputs": [],
   "source": [
    "dades_ffill = dades_ffill.rename(columns = new_names)"
   ]
  },
  {
   "cell_type": "code",
   "execution_count": 55,
   "metadata": {},
   "outputs": [],
   "source": [
    "#dades_ffill.to_csv('humidityETSAB2023_clean.csv', index = False)"
   ]
  },
  {
   "cell_type": "code",
   "execution_count": 56,
   "metadata": {},
   "outputs": [],
   "source": [
    "#ens quedem amb aules edifici A per fer scatterplot zona comfort"
   ]
  },
  {
   "cell_type": "code",
   "execution_count": 57,
   "metadata": {},
   "outputs": [
    {
     "data": {
      "text/html": [
       "<div>\n",
       "<style scoped>\n",
       "    .dataframe tbody tr th:only-of-type {\n",
       "        vertical-align: middle;\n",
       "    }\n",
       "\n",
       "    .dataframe tbody tr th {\n",
       "        vertical-align: top;\n",
       "    }\n",
       "\n",
       "    .dataframe thead th {\n",
       "        text-align: right;\n",
       "    }\n",
       "</style>\n",
       "<table border=\"1\" class=\"dataframe\">\n",
       "  <thead>\n",
       "    <tr style=\"text-align: right;\">\n",
       "      <th></th>\n",
       "      <th>Date</th>\n",
       "      <th>A-11</th>\n",
       "      <th>A-12</th>\n",
       "      <th>A-13</th>\n",
       "      <th>A-14</th>\n",
       "      <th>A-21</th>\n",
       "      <th>A-22</th>\n",
       "      <th>A-23</th>\n",
       "      <th>A-24</th>\n",
       "      <th>A-31</th>\n",
       "      <th>...</th>\n",
       "      <th>A-43</th>\n",
       "      <th>A-44</th>\n",
       "      <th>A-51</th>\n",
       "      <th>A-52</th>\n",
       "      <th>A-53</th>\n",
       "      <th>A-54</th>\n",
       "      <th>A-55</th>\n",
       "      <th>A-56</th>\n",
       "      <th>A-61</th>\n",
       "      <th>A-62</th>\n",
       "    </tr>\n",
       "  </thead>\n",
       "  <tbody>\n",
       "    <tr>\n",
       "      <th>0</th>\n",
       "      <td>2023-01-01 00:00:00</td>\n",
       "      <td>55.0</td>\n",
       "      <td>55.0</td>\n",
       "      <td>53.0</td>\n",
       "      <td>53.0</td>\n",
       "      <td>53.0</td>\n",
       "      <td>53.0</td>\n",
       "      <td>53.0</td>\n",
       "      <td>53.0</td>\n",
       "      <td>53.0</td>\n",
       "      <td>...</td>\n",
       "      <td>54.0</td>\n",
       "      <td>52.0</td>\n",
       "      <td>54.0</td>\n",
       "      <td>53.5</td>\n",
       "      <td>53.0</td>\n",
       "      <td>53.0</td>\n",
       "      <td>54.0</td>\n",
       "      <td>55.0</td>\n",
       "      <td>54.5</td>\n",
       "      <td>53.0</td>\n",
       "    </tr>\n",
       "    <tr>\n",
       "      <th>1</th>\n",
       "      <td>2023-01-01 01:00:00</td>\n",
       "      <td>55.0</td>\n",
       "      <td>55.0</td>\n",
       "      <td>53.5</td>\n",
       "      <td>53.0</td>\n",
       "      <td>53.0</td>\n",
       "      <td>54.0</td>\n",
       "      <td>53.0</td>\n",
       "      <td>53.0</td>\n",
       "      <td>53.0</td>\n",
       "      <td>...</td>\n",
       "      <td>54.0</td>\n",
       "      <td>52.0</td>\n",
       "      <td>53.0</td>\n",
       "      <td>53.0</td>\n",
       "      <td>53.0</td>\n",
       "      <td>53.0</td>\n",
       "      <td>53.5</td>\n",
       "      <td>55.0</td>\n",
       "      <td>54.0</td>\n",
       "      <td>53.0</td>\n",
       "    </tr>\n",
       "    <tr>\n",
       "      <th>2</th>\n",
       "      <td>2023-01-01 02:00:00</td>\n",
       "      <td>55.0</td>\n",
       "      <td>55.0</td>\n",
       "      <td>53.5</td>\n",
       "      <td>53.0</td>\n",
       "      <td>53.0</td>\n",
       "      <td>54.0</td>\n",
       "      <td>53.0</td>\n",
       "      <td>53.0</td>\n",
       "      <td>53.0</td>\n",
       "      <td>...</td>\n",
       "      <td>54.0</td>\n",
       "      <td>52.0</td>\n",
       "      <td>53.0</td>\n",
       "      <td>53.0</td>\n",
       "      <td>53.0</td>\n",
       "      <td>53.0</td>\n",
       "      <td>53.0</td>\n",
       "      <td>54.0</td>\n",
       "      <td>54.0</td>\n",
       "      <td>53.0</td>\n",
       "    </tr>\n",
       "    <tr>\n",
       "      <th>3</th>\n",
       "      <td>2023-01-01 03:00:00</td>\n",
       "      <td>54.5</td>\n",
       "      <td>54.0</td>\n",
       "      <td>53.0</td>\n",
       "      <td>53.0</td>\n",
       "      <td>53.0</td>\n",
       "      <td>54.0</td>\n",
       "      <td>53.0</td>\n",
       "      <td>53.0</td>\n",
       "      <td>53.0</td>\n",
       "      <td>...</td>\n",
       "      <td>54.0</td>\n",
       "      <td>52.0</td>\n",
       "      <td>53.0</td>\n",
       "      <td>53.0</td>\n",
       "      <td>53.0</td>\n",
       "      <td>52.5</td>\n",
       "      <td>53.0</td>\n",
       "      <td>54.0</td>\n",
       "      <td>53.5</td>\n",
       "      <td>52.5</td>\n",
       "    </tr>\n",
       "    <tr>\n",
       "      <th>4</th>\n",
       "      <td>2023-01-01 04:00:00</td>\n",
       "      <td>54.0</td>\n",
       "      <td>54.0</td>\n",
       "      <td>53.0</td>\n",
       "      <td>53.0</td>\n",
       "      <td>53.0</td>\n",
       "      <td>53.5</td>\n",
       "      <td>53.0</td>\n",
       "      <td>53.0</td>\n",
       "      <td>52.5</td>\n",
       "      <td>...</td>\n",
       "      <td>53.0</td>\n",
       "      <td>51.5</td>\n",
       "      <td>52.5</td>\n",
       "      <td>52.5</td>\n",
       "      <td>52.0</td>\n",
       "      <td>52.0</td>\n",
       "      <td>53.0</td>\n",
       "      <td>54.0</td>\n",
       "      <td>53.0</td>\n",
       "      <td>52.0</td>\n",
       "    </tr>\n",
       "  </tbody>\n",
       "</table>\n",
       "<p>5 rows × 27 columns</p>\n",
       "</div>"
      ],
      "text/plain": [
       "                 Date  A-11  A-12  A-13  A-14  A-21  A-22  A-23  A-24  A-31  \\\n",
       "0 2023-01-01 00:00:00  55.0  55.0  53.0  53.0  53.0  53.0  53.0  53.0  53.0   \n",
       "1 2023-01-01 01:00:00  55.0  55.0  53.5  53.0  53.0  54.0  53.0  53.0  53.0   \n",
       "2 2023-01-01 02:00:00  55.0  55.0  53.5  53.0  53.0  54.0  53.0  53.0  53.0   \n",
       "3 2023-01-01 03:00:00  54.5  54.0  53.0  53.0  53.0  54.0  53.0  53.0  53.0   \n",
       "4 2023-01-01 04:00:00  54.0  54.0  53.0  53.0  53.0  53.5  53.0  53.0  52.5   \n",
       "\n",
       "   ...  A-43  A-44  A-51  A-52  A-53  A-54  A-55  A-56  A-61  A-62  \n",
       "0  ...  54.0  52.0  54.0  53.5  53.0  53.0  54.0  55.0  54.5  53.0  \n",
       "1  ...  54.0  52.0  53.0  53.0  53.0  53.0  53.5  55.0  54.0  53.0  \n",
       "2  ...  54.0  52.0  53.0  53.0  53.0  53.0  53.0  54.0  54.0  53.0  \n",
       "3  ...  54.0  52.0  53.0  53.0  53.0  52.5  53.0  54.0  53.5  52.5  \n",
       "4  ...  53.0  51.5  52.5  52.5  52.0  52.0  53.0  54.0  53.0  52.0  \n",
       "\n",
       "[5 rows x 27 columns]"
      ]
     },
     "execution_count": 57,
     "metadata": {},
     "output_type": "execute_result"
    }
   ],
   "source": [
    "aulesA = dades_ffill.iloc[:,:27]\n",
    "aulesA.head()"
   ]
  },
  {
   "cell_type": "code",
   "execution_count": 58,
   "metadata": {},
   "outputs": [
    {
     "data": {
      "text/html": [
       "<div>\n",
       "<style scoped>\n",
       "    .dataframe tbody tr th:only-of-type {\n",
       "        vertical-align: middle;\n",
       "    }\n",
       "\n",
       "    .dataframe tbody tr th {\n",
       "        vertical-align: top;\n",
       "    }\n",
       "\n",
       "    .dataframe thead th {\n",
       "        text-align: right;\n",
       "    }\n",
       "</style>\n",
       "<table border=\"1\" class=\"dataframe\">\n",
       "  <thead>\n",
       "    <tr style=\"text-align: right;\">\n",
       "      <th></th>\n",
       "      <th>Date</th>\n",
       "      <th>Aula</th>\n",
       "      <th>Humidity</th>\n",
       "    </tr>\n",
       "  </thead>\n",
       "  <tbody>\n",
       "    <tr>\n",
       "      <th>0</th>\n",
       "      <td>2023-01-01 00:00:00</td>\n",
       "      <td>A-11</td>\n",
       "      <td>55.0</td>\n",
       "    </tr>\n",
       "    <tr>\n",
       "      <th>1</th>\n",
       "      <td>2023-01-01 01:00:00</td>\n",
       "      <td>A-11</td>\n",
       "      <td>55.0</td>\n",
       "    </tr>\n",
       "    <tr>\n",
       "      <th>2</th>\n",
       "      <td>2023-01-01 02:00:00</td>\n",
       "      <td>A-11</td>\n",
       "      <td>55.0</td>\n",
       "    </tr>\n",
       "    <tr>\n",
       "      <th>3</th>\n",
       "      <td>2023-01-01 03:00:00</td>\n",
       "      <td>A-11</td>\n",
       "      <td>54.5</td>\n",
       "    </tr>\n",
       "    <tr>\n",
       "      <th>4</th>\n",
       "      <td>2023-01-01 04:00:00</td>\n",
       "      <td>A-11</td>\n",
       "      <td>54.0</td>\n",
       "    </tr>\n",
       "  </tbody>\n",
       "</table>\n",
       "</div>"
      ],
      "text/plain": [
       "                 Date  Aula  Humidity\n",
       "0 2023-01-01 00:00:00  A-11      55.0\n",
       "1 2023-01-01 01:00:00  A-11      55.0\n",
       "2 2023-01-01 02:00:00  A-11      55.0\n",
       "3 2023-01-01 03:00:00  A-11      54.5\n",
       "4 2023-01-01 04:00:00  A-11      54.0"
      ]
     },
     "execution_count": 58,
     "metadata": {},
     "output_type": "execute_result"
    }
   ],
   "source": [
    "aulesA2 = pd.melt(aulesA, id_vars=['Date'], value_vars=['A-11','A-12','A-13','A-14','A-21','A-22','A-23','A-24','A-31','A-32','A-33','A-34','A-35','A-36','A-41','A-42','A-43','A-44','A-51','A-52','A-53','A-54','A-55','A-56','A-61','A-62'])\n",
    "aulesA2 = aulesA2.rename(columns = {'variable':'Aula', 'value':'Humidity'}) # unitats co2: ppm\n",
    "aulesA2.head()"
   ]
  },
  {
   "cell_type": "code",
   "execution_count": 59,
   "metadata": {},
   "outputs": [],
   "source": [
    "df = aulesA2.copy()\n",
    "\n",
    "# Calculate the mean temperature at each time instant\n",
    "mean_temperatures = df.groupby('Date')['Humidity'].transform('mean')\n",
    "\n",
    "# Calculate the distance of each class from the mean temperature\n",
    "df['Distance'] = abs(df['Humidity'] - mean_temperatures)\n",
    "\n",
    "# Define a function to subsample each group\n",
    "def subsample_group(group):\n",
    "    # Sort the group by distance from mean temperature\n",
    "    sorted_group = group.sort_values(by='Distance')\n",
    "    \n",
    "    # Keep 2 points closest to the mean temperature\n",
    "    closest_points = sorted_group.iloc[:2]\n",
    "    \n",
    "    # Keep distant points\n",
    "    distant_points = sorted_group.iloc[-int(len(group) * 0.2):]  # Adjust the fraction as needed\n",
    "    \n",
    "    # Combine closest and distant points\n",
    "    subsampled_group = pd.concat([closest_points, distant_points])\n",
    "    \n",
    "    return subsampled_group\n",
    "\n",
    "# Apply the subsampling function to each group\n",
    "subsampled_df = df.groupby('Date', group_keys=False).apply(subsample_group)\n",
    "subsampled_df['min_humidity'] = 30\n",
    "subsampled_df['max_humidity'] = 60\n",
    "subsampled_df['Color'] = 'Comfort'\n",
    "subsampled_df.loc[subsampled_df['Humidity']>60, 'Color'] = 'Too humid'\n",
    "subsampled_df.loc[subsampled_df['Humidity']<30, 'Color'] = 'Too dry'\n",
    "subsampled_df.to_csv('humiditysubsampledETSAB2023_clean.csv', index = False)"
   ]
  },
  {
   "cell_type": "code",
   "execution_count": 60,
   "metadata": {},
   "outputs": [
    {
     "data": {
      "text/html": [
       "<div>\n",
       "<style scoped>\n",
       "    .dataframe tbody tr th:only-of-type {\n",
       "        vertical-align: middle;\n",
       "    }\n",
       "\n",
       "    .dataframe tbody tr th {\n",
       "        vertical-align: top;\n",
       "    }\n",
       "\n",
       "    .dataframe thead th {\n",
       "        text-align: right;\n",
       "    }\n",
       "</style>\n",
       "<table border=\"1\" class=\"dataframe\">\n",
       "  <thead>\n",
       "    <tr style=\"text-align: right;\">\n",
       "      <th></th>\n",
       "      <th>Date</th>\n",
       "      <th>Aula</th>\n",
       "      <th>Humidity</th>\n",
       "      <th>min_humidity</th>\n",
       "      <th>max_humidity</th>\n",
       "    </tr>\n",
       "  </thead>\n",
       "  <tbody>\n",
       "    <tr>\n",
       "      <th>0</th>\n",
       "      <td>2023-01-01 00:00:00</td>\n",
       "      <td>A-11</td>\n",
       "      <td>55.0</td>\n",
       "      <td>30</td>\n",
       "      <td>60</td>\n",
       "    </tr>\n",
       "    <tr>\n",
       "      <th>1</th>\n",
       "      <td>2023-01-01 01:00:00</td>\n",
       "      <td>A-11</td>\n",
       "      <td>55.0</td>\n",
       "      <td>30</td>\n",
       "      <td>60</td>\n",
       "    </tr>\n",
       "    <tr>\n",
       "      <th>2</th>\n",
       "      <td>2023-01-01 02:00:00</td>\n",
       "      <td>A-11</td>\n",
       "      <td>55.0</td>\n",
       "      <td>30</td>\n",
       "      <td>60</td>\n",
       "    </tr>\n",
       "    <tr>\n",
       "      <th>3</th>\n",
       "      <td>2023-01-01 03:00:00</td>\n",
       "      <td>A-11</td>\n",
       "      <td>54.5</td>\n",
       "      <td>30</td>\n",
       "      <td>60</td>\n",
       "    </tr>\n",
       "    <tr>\n",
       "      <th>4</th>\n",
       "      <td>2023-01-01 04:00:00</td>\n",
       "      <td>A-11</td>\n",
       "      <td>54.0</td>\n",
       "      <td>30</td>\n",
       "      <td>60</td>\n",
       "    </tr>\n",
       "  </tbody>\n",
       "</table>\n",
       "</div>"
      ],
      "text/plain": [
       "                 Date  Aula  Humidity  min_humidity  max_humidity\n",
       "0 2023-01-01 00:00:00  A-11      55.0            30            60\n",
       "1 2023-01-01 01:00:00  A-11      55.0            30            60\n",
       "2 2023-01-01 02:00:00  A-11      55.0            30            60\n",
       "3 2023-01-01 03:00:00  A-11      54.5            30            60\n",
       "4 2023-01-01 04:00:00  A-11      54.0            30            60"
      ]
     },
     "execution_count": 60,
     "metadata": {},
     "output_type": "execute_result"
    }
   ],
   "source": [
    "aulesA2['min_humidity'] = 30\n",
    "aulesA2['max_humidity'] = 60\n",
    "aulesA2.head()"
   ]
  },
  {
   "cell_type": "code",
   "execution_count": 61,
   "metadata": {},
   "outputs": [],
   "source": [
    "aules = pd.DataFrame(data={'Aula': ['A-11','A-12','A-13','A-14','A-21','A-22','A-23','A-24','A-31','A-32',\n",
    "'A-33','A-34','A-35','A-36','A-41','A-42','A-43','A-44','A-51','A-52','A-53','A-54','A-55','A-56','A-61','A-62'],\n",
    "                               'planta': [1,1,1,1,2,2,2,2,3,3,3,3,3,3,4,4,4,4,5,5,5,5,5,5,6,6],\n",
    "})\n",
    "source = pd.merge(aulesA2, aules, on=['Aula'])\n"
   ]
  },
  {
   "cell_type": "code",
   "execution_count": 62,
   "metadata": {},
   "outputs": [],
   "source": [
    "aulesA2.to_csv('humidityaulesETSAB2023_clean.csv', index = False)"
   ]
  },
  {
   "cell_type": "code",
   "execution_count": 65,
   "metadata": {},
   "outputs": [],
   "source": [
    "dfnovac = source.copy()\n",
    "dies_festius = ['2023-09-25', '2023-10-12', '2023-11-01', '2023-12-06', '2023-12-07', '2023-12-08',\n",
    "              '2023-12-23','2023-12-24','2023-12-25','2023-12-26','2023-12-27','2023-12-28','2023-12-29',\n",
    "              '2023-12-30', '2023-12-31','2023-01-01','2023-01-02','2023-01-03','2023-01-04','2023-01-05',\n",
    "              '2023-01-06','2023-01-07','2023-01-08','2023-01-09','2023-01-10','2023-04-01','2023-04-02',\n",
    "              '2023-04-03','2023-04-04','2023-04-05','2023-04-06','2023-04-07','2023-04-08','2023-04-09',\n",
    "              '2023-04-10','2023-05-01', '2023-09-11']\n",
    "def marcar_festius(date):\n",
    "    return (str(date).split(' ')[0] in dies_festius) or (str(date).split('-')[1] == '08') or (str(date).split('-')[1] == '07')\n",
    "\n",
    "dfnovac['Date'] = pd.to_datetime(dfnovac['Date'], format='%Y-%m-%d %H:%M:%S')\n",
    "dfnovac['festiu'] = dfnovac['Date'].map(marcar_festius)\n",
    "dfnovac['day_of_week'] = dfnovac['Date'].dt.weekday\n",
    "dfnovac['is_weekend'] = dfnovac['day_of_week'].isin([5, 6])\n",
    "dfnovac['hour_of_day'] = dfnovac['Date'].dt.hour\n",
    "dfnovac = dfnovac[dfnovac['hour_of_day'].isin([i for i in range(8,21)])]\n",
    "dfnovac['festiu'] = (dfnovac['festiu'] | dfnovac['is_weekend'])\n",
    "dfnovac = dfnovac[dfnovac['festiu']==False]\n",
    "dfnovac.to_csv('humiditynovacation.csv')"
   ]
  },
  {
   "cell_type": "code",
   "execution_count": 63,
   "metadata": {},
   "outputs": [],
   "source": [
    "source.to_csv('humidityETSAB2023_clean.csv', index = False)"
   ]
  },
  {
   "cell_type": "code",
   "execution_count": null,
   "metadata": {},
   "outputs": [],
   "source": []
  }
 ],
 "metadata": {
  "kernelspec": {
   "display_name": "Python 3",
   "language": "python",
   "name": "python3"
  },
  "language_info": {
   "codemirror_mode": {
    "name": "ipython",
    "version": 3
   },
   "file_extension": ".py",
   "mimetype": "text/x-python",
   "name": "python",
   "nbconvert_exporter": "python",
   "pygments_lexer": "ipython3",
   "version": "3.8.8"
  }
 },
 "nbformat": 4,
 "nbformat_minor": 4
}
