{
 "cells": [
  {
   "cell_type": "code",
   "execution_count": 81,
   "metadata": {},
   "outputs": [],
   "source": [
    "import pandas as pd"
   ]
  },
  {
   "cell_type": "code",
   "execution_count": 82,
   "metadata": {},
   "outputs": [],
   "source": [
    "dades = pd.read_excel('Energía activa - horario_01-01-2023_31-12-2023.xls',skiprows=[0,1,2,3,4,5,6,7,8,9,10,11,12,13])"
   ]
  },
  {
   "cell_type": "code",
   "execution_count": 83,
   "metadata": {},
   "outputs": [
    {
     "data": {
      "text/html": [
       "<div>\n",
       "<style scoped>\n",
       "    .dataframe tbody tr th:only-of-type {\n",
       "        vertical-align: middle;\n",
       "    }\n",
       "\n",
       "    .dataframe tbody tr th {\n",
       "        vertical-align: top;\n",
       "    }\n",
       "\n",
       "    .dataframe thead th {\n",
       "        text-align: right;\n",
       "    }\n",
       "</style>\n",
       "<table border=\"1\" class=\"dataframe\">\n",
       "  <thead>\n",
       "    <tr style=\"text-align: right;\">\n",
       "      <th></th>\n",
       "      <th>Date</th>\n",
       "      <th>Hour</th>\n",
       "      <th>Comptador Campus Diagonal Sud 1 [kWh] [Sud 1 (ETSAB, EPSEB i FME)]</th>\n",
       "      <th>CS A elec [kWh] [ETSAB]</th>\n",
       "      <th>CS B elec [kWh] [ETSAB]</th>\n",
       "      <th>CS C elec [kWh] [ETSAB]</th>\n",
       "      <th>Electricitat Total [kWh] [ETSAB]</th>\n",
       "    </tr>\n",
       "  </thead>\n",
       "  <tbody>\n",
       "    <tr>\n",
       "      <th>0</th>\n",
       "      <td>2023-01-01 00:00:00</td>\n",
       "      <td>2023-01-01 00:00:00</td>\n",
       "      <td>81</td>\n",
       "      <td>20.113</td>\n",
       "      <td>0.0</td>\n",
       "      <td>3.323</td>\n",
       "      <td>23.436</td>\n",
       "    </tr>\n",
       "    <tr>\n",
       "      <th>1</th>\n",
       "      <td>2023-01-01 01:00:00</td>\n",
       "      <td>2023-01-01 01:00:00</td>\n",
       "      <td>82</td>\n",
       "      <td>20.468</td>\n",
       "      <td>0.0</td>\n",
       "      <td>3.321</td>\n",
       "      <td>23.789</td>\n",
       "    </tr>\n",
       "    <tr>\n",
       "      <th>2</th>\n",
       "      <td>2023-01-01 02:00:00</td>\n",
       "      <td>2023-01-01 02:00:00</td>\n",
       "      <td>82</td>\n",
       "      <td>19.974</td>\n",
       "      <td>0.0</td>\n",
       "      <td>3.327</td>\n",
       "      <td>23.301</td>\n",
       "    </tr>\n",
       "    <tr>\n",
       "      <th>3</th>\n",
       "      <td>2023-01-01 03:00:00</td>\n",
       "      <td>2023-01-01 03:00:00</td>\n",
       "      <td>82</td>\n",
       "      <td>19.864</td>\n",
       "      <td>0.0</td>\n",
       "      <td>3.322</td>\n",
       "      <td>23.186</td>\n",
       "    </tr>\n",
       "    <tr>\n",
       "      <th>4</th>\n",
       "      <td>2023-01-01 04:00:00</td>\n",
       "      <td>2023-01-01 04:00:00</td>\n",
       "      <td>82</td>\n",
       "      <td>20.094</td>\n",
       "      <td>0.0</td>\n",
       "      <td>3.327</td>\n",
       "      <td>23.421</td>\n",
       "    </tr>\n",
       "  </tbody>\n",
       "</table>\n",
       "</div>"
      ],
      "text/plain": [
       "                 Date                Hour  \\\n",
       "0 2023-01-01 00:00:00 2023-01-01 00:00:00   \n",
       "1 2023-01-01 01:00:00 2023-01-01 01:00:00   \n",
       "2 2023-01-01 02:00:00 2023-01-01 02:00:00   \n",
       "3 2023-01-01 03:00:00 2023-01-01 03:00:00   \n",
       "4 2023-01-01 04:00:00 2023-01-01 04:00:00   \n",
       "\n",
       "   Comptador Campus Diagonal Sud 1 [kWh] [Sud 1 (ETSAB, EPSEB i FME)]  \\\n",
       "0                                                 81                    \n",
       "1                                                 82                    \n",
       "2                                                 82                    \n",
       "3                                                 82                    \n",
       "4                                                 82                    \n",
       "\n",
       "   CS A elec [kWh] [ETSAB]  CS B elec [kWh] [ETSAB]  CS C elec [kWh] [ETSAB]  \\\n",
       "0                   20.113                      0.0                    3.323   \n",
       "1                   20.468                      0.0                    3.321   \n",
       "2                   19.974                      0.0                    3.327   \n",
       "3                   19.864                      0.0                    3.322   \n",
       "4                   20.094                      0.0                    3.327   \n",
       "\n",
       "   Electricitat Total [kWh] [ETSAB]  \n",
       "0                            23.436  \n",
       "1                            23.789  \n",
       "2                            23.301  \n",
       "3                            23.186  \n",
       "4                            23.421  "
      ]
     },
     "execution_count": 83,
     "metadata": {},
     "output_type": "execute_result"
    }
   ],
   "source": [
    "dades.head()"
   ]
  },
  {
   "cell_type": "code",
   "execution_count": 84,
   "metadata": {},
   "outputs": [],
   "source": [
    "date_col = dades['Date']\n",
    "time_col = dades['Hour']\n",
    "dades = dades.drop(columns=['Hour'])"
   ]
  },
  {
   "cell_type": "code",
   "execution_count": 85,
   "metadata": {},
   "outputs": [],
   "source": [
    "def get_date(x):\n",
    "    x = str(x)\n",
    "    return x.split(' ')[0]\n",
    "\n",
    "def get_time(x):\n",
    "    x = str(x)\n",
    "    return x.split(' ')[1]"
   ]
  },
  {
   "cell_type": "code",
   "execution_count": 86,
   "metadata": {},
   "outputs": [],
   "source": [
    "dades['Date'] = date_col.apply(get_date)\n",
    "dades['Time'] = time_col.apply(get_time)"
   ]
  },
  {
   "cell_type": "code",
   "execution_count": 87,
   "metadata": {},
   "outputs": [
    {
     "data": {
      "text/html": [
       "<div>\n",
       "<style scoped>\n",
       "    .dataframe tbody tr th:only-of-type {\n",
       "        vertical-align: middle;\n",
       "    }\n",
       "\n",
       "    .dataframe tbody tr th {\n",
       "        vertical-align: top;\n",
       "    }\n",
       "\n",
       "    .dataframe thead th {\n",
       "        text-align: right;\n",
       "    }\n",
       "</style>\n",
       "<table border=\"1\" class=\"dataframe\">\n",
       "  <thead>\n",
       "    <tr style=\"text-align: right;\">\n",
       "      <th></th>\n",
       "      <th>Date</th>\n",
       "      <th>Comptador Campus Diagonal Sud 1 [kWh] [Sud 1 (ETSAB, EPSEB i FME)]</th>\n",
       "      <th>CS A elec [kWh] [ETSAB]</th>\n",
       "      <th>CS B elec [kWh] [ETSAB]</th>\n",
       "      <th>CS C elec [kWh] [ETSAB]</th>\n",
       "      <th>Electricitat Total [kWh] [ETSAB]</th>\n",
       "      <th>Time</th>\n",
       "    </tr>\n",
       "  </thead>\n",
       "  <tbody>\n",
       "    <tr>\n",
       "      <th>0</th>\n",
       "      <td>2023-01-01</td>\n",
       "      <td>81</td>\n",
       "      <td>20.113</td>\n",
       "      <td>0.0</td>\n",
       "      <td>3.323</td>\n",
       "      <td>23.436</td>\n",
       "      <td>00:00:00</td>\n",
       "    </tr>\n",
       "    <tr>\n",
       "      <th>1</th>\n",
       "      <td>2023-01-01</td>\n",
       "      <td>82</td>\n",
       "      <td>20.468</td>\n",
       "      <td>0.0</td>\n",
       "      <td>3.321</td>\n",
       "      <td>23.789</td>\n",
       "      <td>01:00:00</td>\n",
       "    </tr>\n",
       "    <tr>\n",
       "      <th>2</th>\n",
       "      <td>2023-01-01</td>\n",
       "      <td>82</td>\n",
       "      <td>19.974</td>\n",
       "      <td>0.0</td>\n",
       "      <td>3.327</td>\n",
       "      <td>23.301</td>\n",
       "      <td>02:00:00</td>\n",
       "    </tr>\n",
       "    <tr>\n",
       "      <th>3</th>\n",
       "      <td>2023-01-01</td>\n",
       "      <td>82</td>\n",
       "      <td>19.864</td>\n",
       "      <td>0.0</td>\n",
       "      <td>3.322</td>\n",
       "      <td>23.186</td>\n",
       "      <td>03:00:00</td>\n",
       "    </tr>\n",
       "    <tr>\n",
       "      <th>4</th>\n",
       "      <td>2023-01-01</td>\n",
       "      <td>82</td>\n",
       "      <td>20.094</td>\n",
       "      <td>0.0</td>\n",
       "      <td>3.327</td>\n",
       "      <td>23.421</td>\n",
       "      <td>04:00:00</td>\n",
       "    </tr>\n",
       "  </tbody>\n",
       "</table>\n",
       "</div>"
      ],
      "text/plain": [
       "         Date  \\\n",
       "0  2023-01-01   \n",
       "1  2023-01-01   \n",
       "2  2023-01-01   \n",
       "3  2023-01-01   \n",
       "4  2023-01-01   \n",
       "\n",
       "   Comptador Campus Diagonal Sud 1 [kWh] [Sud 1 (ETSAB, EPSEB i FME)]  \\\n",
       "0                                                 81                    \n",
       "1                                                 82                    \n",
       "2                                                 82                    \n",
       "3                                                 82                    \n",
       "4                                                 82                    \n",
       "\n",
       "   CS A elec [kWh] [ETSAB]  CS B elec [kWh] [ETSAB]  CS C elec [kWh] [ETSAB]  \\\n",
       "0                   20.113                      0.0                    3.323   \n",
       "1                   20.468                      0.0                    3.321   \n",
       "2                   19.974                      0.0                    3.327   \n",
       "3                   19.864                      0.0                    3.322   \n",
       "4                   20.094                      0.0                    3.327   \n",
       "\n",
       "   Electricitat Total [kWh] [ETSAB]      Time  \n",
       "0                            23.436  00:00:00  \n",
       "1                            23.789  01:00:00  \n",
       "2                            23.301  02:00:00  \n",
       "3                            23.186  03:00:00  \n",
       "4                            23.421  04:00:00  "
      ]
     },
     "execution_count": 87,
     "metadata": {},
     "output_type": "execute_result"
    }
   ],
   "source": [
    "dades.head()"
   ]
  },
  {
   "cell_type": "code",
   "execution_count": 88,
   "metadata": {},
   "outputs": [
    {
     "data": {
      "text/plain": [
       "Date                                                                   0\n",
       "Comptador Campus Diagonal Sud 1 [kWh] [Sud 1 (ETSAB, EPSEB i FME)]     0\n",
       "CS A elec [kWh] [ETSAB]                                               53\n",
       "CS B elec [kWh] [ETSAB]                                               53\n",
       "CS C elec [kWh] [ETSAB]                                               54\n",
       "Electricitat Total [kWh] [ETSAB]                                      53\n",
       "Time                                                                   0\n",
       "dtype: int64"
      ]
     },
     "execution_count": 88,
     "metadata": {},
     "output_type": "execute_result"
    }
   ],
   "source": [
    "dades.isnull().sum(0)"
   ]
  },
  {
   "cell_type": "code",
   "execution_count": 89,
   "metadata": {},
   "outputs": [
    {
     "data": {
      "text/plain": [
       "(8760, 7)"
      ]
     },
     "execution_count": 89,
     "metadata": {},
     "output_type": "execute_result"
    }
   ],
   "source": [
    "dades.shape"
   ]
  },
  {
   "cell_type": "markdown",
   "metadata": {},
   "source": [
    "Veiem que la proporció de NAs en comparació amb el nombre de samples és molt petita, per tant podem aplicar fillna sense rebaixar massa la qualitat de les dades."
   ]
  },
  {
   "cell_type": "code",
   "execution_count": 90,
   "metadata": {},
   "outputs": [],
   "source": [
    "dades_ffill = dades.fillna(method = 'ffill')"
   ]
  },
  {
   "cell_type": "code",
   "execution_count": 92,
   "metadata": {},
   "outputs": [],
   "source": [
    "dades_ffill.to_csv('energia_activaETSAB2023_clean.csv', index = False)"
   ]
  },
  {
   "cell_type": "code",
   "execution_count": null,
   "metadata": {},
   "outputs": [],
   "source": []
  }
 ],
 "metadata": {
  "kernelspec": {
   "display_name": "Python 3",
   "language": "python",
   "name": "python3"
  },
  "language_info": {
   "codemirror_mode": {
    "name": "ipython",
    "version": 3
   },
   "file_extension": ".py",
   "mimetype": "text/x-python",
   "name": "python",
   "nbconvert_exporter": "python",
   "pygments_lexer": "ipython3",
   "version": "3.8.8"
  }
 },
 "nbformat": 4,
 "nbformat_minor": 4
}
